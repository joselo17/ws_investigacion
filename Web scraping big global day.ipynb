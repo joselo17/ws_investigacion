{
 "cells": [
  {
   "cell_type": "markdown",
   "id": "41534aba",
   "metadata": {},
   "source": [
    "## Web scraping"
   ]
  },
  {
   "cell_type": "code",
   "execution_count": 1,
   "id": "72f8b0d7",
   "metadata": {},
   "outputs": [],
   "source": [
    "import requests\n",
    "from bs4 import BeautifulSoup\n",
    "\n",
    "# Realizar la solicitud GET a la página web\n",
    "url = 'https://ebird.org/region/world/regions?yr=BIGDAY_2023a&hsStats_sortBy=num_species&hsStats_o=desc'\n",
    "response = requests.get(url)\n",
    "\n",
    "# Crear el objeto BeautifulSoup para analizar el contenido HTML\n",
    "soup = BeautifulSoup(response.content, 'html.parser')\n",
    "\n",
    "# Encontrar los elementos que contienen los precios de los productos\n",
    "bi2 = soup.find_all('span', class_='Heading Heading--h5 u-margin-none')\n"
   ]
  },
  {
   "cell_type": "code",
   "execution_count": 2,
   "id": "c798dceb",
   "metadata": {},
   "outputs": [
    {
     "name": "stdout",
     "output_type": "stream",
     "text": [
      "['Colombia', 'Peru', 'Brazil', 'Ecuador', 'India', 'Bolivia', 'United States', 'Kenya', 'Venezuela', 'Argentina', 'Panama', 'Costa Rica', 'Mexico', 'Guatemala', 'Australia', 'China', 'Malaysia', 'South Africa', 'Nicaragua', 'Uganda', 'Thailand', 'Zambia', 'Honduras', 'Tanzania', 'Canada', 'Paraguay', 'Belize', 'Zimbabwe', 'Bhutan', 'Spain', 'Chile', 'Nepal', 'Türkiye', 'Taiwan', 'El Salvador', 'France', 'Kazakhstan', 'Russia', 'Bulgaria', 'Germany', 'United Kingdom', 'Mongolia', 'Uruguay', 'Indonesia', 'Portugal', 'Poland', 'Iran', 'Italy', 'Botswana', 'Greece', 'Israel', 'Sweden', 'Japan', 'Czech Republic', 'South Korea', 'Sri Lanka', 'Philippines', 'DR Congo', 'Nigeria', 'Finland', 'Netherlands', 'Guyana', 'Rwanda', 'Hungary', 'Switzerland', 'Mozambique', 'Saudi Arabia', 'Norway', 'Ukraine', 'Trinidad and Tobago', 'Cuba', 'Austria', 'Denmark', 'Hong Kong', 'Croatia', 'Malawi', 'Slovakia', 'Laos', 'Georgia', 'Serbia', 'Ireland', 'Cambodia', 'New Zealand', 'Belgium', 'French Guiana', 'Armenia', 'Lithuania', 'Puerto Rico', 'Belarus', 'Latvia', 'Romania', 'Estonia', 'Singapore', 'Bahamas', 'Brunei', 'Ethiopia', 'Bangladesh', 'United Arab Emirates', 'Namibia', 'Azerbaijan', 'Bosnia and Herzegovina', 'Dominican Republic', 'Ghana', 'Morocco', 'Kyrgyzstan', 'Iceland', 'Albania', 'Egypt', 'Isle of Man', 'Uzbekistan', 'Slovenia', 'Vietnam', 'Cayman Islands', 'Tajikistan', 'Jamaica', 'Montenegro', 'Jordan', 'Cyprus', 'Cameroon', 'Guadeloupe', 'Moldova', \"Côte d'Ivoire\", 'Aruba', 'Caribbean Netherlands', 'Iraq', 'Myanmar', 'Palestinian Territory', 'Luxembourg', 'Turks and Caicos Islands', 'Kuwait', 'Angola', 'Faroe Islands', 'Curaçao', 'Timor-Leste', 'Pakistan', 'Virgin Islands (U.S.)', 'Madagascar', 'Palau', 'Qatar', 'Barbados', 'Antigua and Barbuda', 'Grenada', 'Somalia', 'North Macedonia', 'Bermuda', 'Saint Kitts and Nevis', 'Saint Vincent and the Grenadines', 'Andorra', 'Anguilla', 'Cape Verde', 'Libya', 'São Tomé and Príncipe', 'Senegal', 'Montserrat', 'Oman', 'Vanuatu', 'Saint Pierre and Miquelon', 'Sint Maarten', 'Fiji', 'Saint Martin (French part)', 'Haiti', 'Gambia', 'Malta', 'Guinea-Bissau', 'Lebanon', 'Northern Mariana Islands', 'Lesotho', 'Saint Lucia', 'New Caledonia', 'Seychelles', 'South Georgia and South Sandwich Islands', 'Gibraltar', 'Mayotte', 'Guernsey', 'Sierra Leone', 'United States Minor Outlying Islands', 'Algeria', 'Papua New Guinea', 'Bahrain', 'High Seas', 'Greenland', 'Gabon', 'Falkland Islands (Malvinas)', 'Micronesia', 'Norfolk Island', 'Saint Helena, Ascension, and Tristan da Cunha', 'French Polynesia', 'Wallis and Futuna', 'Antarctica', 'Christmas Island', 'Guam', 'Saint Barthélemy', 'Solomon Islands', 'Guinea', 'Tunisia', 'Vatican City (Holy See)', 'Maldives', 'Svalbard', 'Afghanistan', 'American Samoa', 'Ashmore and Cartier Islands', 'Benin', 'Bouvet Island', 'British Indian Ocean Territory', 'Burkina Faso', 'Burundi', 'Central African Republic', 'Chad', 'Clipperton Island', 'Cocos (Keeling) Islands', 'Comoros', 'Congo', 'Cook Islands', 'Coral Sea Islands', 'Djibouti', 'Dominica', 'Equatorial Guinea', 'Eritrea', 'Eswatini', 'French Southern and Antarctic Lands', 'Heard Island and McDonald Islands', 'Jersey', 'Kiribati', 'Kosovo', 'Liberia', 'Liechtenstein', 'Macau', 'Mali', 'Marshall Islands', 'Martinique', 'Mauritania', 'Mauritius', 'Monaco', 'Nauru', 'Niger', 'Niue', 'North Korea', 'Pitcairn Islands', 'Réunion', 'Samoa', 'San Marino', 'South Sudan', 'Sudan', 'Suriname', 'Syria', 'Togo', 'Tokelau', 'Tonga', 'Turkmenistan', 'Tuvalu', 'Virgin Islands (British)', 'Western Sahara', 'Yemen']\n"
     ]
    }
   ],
   "source": [
    "top2=list()\n",
    "for i in bi2:\n",
    "    top2.append(i.text)\n",
    "    \n",
    "print(top2)"
   ]
  },
  {
   "cell_type": "code",
   "execution_count": 3,
   "id": "2a31c026",
   "metadata": {},
   "outputs": [
    {
     "data": {
      "text/plain": [
       "253"
      ]
     },
     "execution_count": 3,
     "metadata": {},
     "output_type": "execute_result"
    }
   ],
   "source": [
    "len(top2)"
   ]
  },
  {
   "cell_type": "code",
   "execution_count": 4,
   "id": "f45fbc02",
   "metadata": {},
   "outputs": [],
   "source": [
    "# Realizar la solicitud GET a la página web\n",
    "url = 'https://ebird.org/region/world/regions?yr=BIGDAY_2023a&hsStats_sortBy=num_species&hsStats_o=desc'\n",
    "response = requests.get(url)\n",
    "\n",
    "# Crear el objeto BeautifulSoup para analizar el contenido HTML\n",
    "soup = BeautifulSoup(response.content, 'html.parser')\n",
    "\n",
    "# Encontrar los elementos que contienen los precios de los productos\n",
    "bi2_e = soup.find_all('td', class_='Table-cell Table-cell--statBar u-prm')\n",
    "\n"
   ]
  },
  {
   "cell_type": "code",
   "execution_count": 5,
   "id": "72647884",
   "metadata": {},
   "outputs": [],
   "source": [
    "top2_e=list()\n",
    "for i in bi2_e:\n",
    "    top2_e.append(i.text)\n",
    "    "
   ]
  },
  {
   "cell_type": "code",
   "execution_count": 6,
   "id": "f0dc5b64",
   "metadata": {},
   "outputs": [
    {
     "name": "stdout",
     "output_type": "stream",
     "text": [
      "['1534', '1450', '1214', '1093', '846', '821', '743', '721', '721', '710', '709', '705', '705', '529', '517', '499', '499', '495', '463', '458', '446', '432', '423', '409', '399', '395', '375', '354', '352', '326', '320', '319', '299', '275', '274', '267', '252', '251', '250', '243', '242', '239', '236', '229', '227', '226', '224', '224', '223', '220', '220', '220', '214', '213', '213', '212', '210', '209', '201', '197', '197', '192', '191', '184', '183', '181', '181', '177', '175', '173', '172', '171', '169', '166', '161', '158', '158', '155', '154', '149', '147', '144', '143', '142', '139', '138', '133', '132', '131', '130', '130', '129', '129', '127', '126', '126', '125', '125', '124', '110', '109', '108', '104', '102', '101', '99', '97', '97', '96', '92', '91', '90', '89', '89', '85', '85', '81', '77', '75', '74', '74', '73', '71', '71', '71', '68', '68', '63', '63', '62', '61', '60', '59', '59', '58', '58', '57', '56', '56', '54', '53', '49', '48', '47', '46', '46', '45', '42', '42', '41', '41', '39', '38', '35', '35', '35', '33', '32', '30', '28', '27', '26', '24', '23', '23', '23', '22', '21', '20', '20', '20', '18', '18', '17', '17', '17', '16', '16', '14', '14', '12', '11', '10', '10', '10', '10', '9', '7', '6', '6', '6', '6', '5', '4', '4', '4', '3', '3', '0', '0', '0', '0', '0', '0', '0', '0', '0', '0', '0', '0', '0', '0', '0', '0', '0', '0', '0', '0', '0', '0', '0', '0', '0', '0', '0', '0', '0', '0', '0', '0', '0', '0', '0', '0', '0', '0', '0', '0', '0', '0', '0', '0', '0', '0', '0', '0', '0', '0', '0', '0', '0', '0', '0']\n"
     ]
    }
   ],
   "source": [
    "#limpiamos los textos incluidos\n",
    "top2_e\n",
    "caracteres_a_eliminar = '\\t'\n",
    "\n",
    "tp1 = [elemento.replace(caracteres_a_eliminar, '') for elemento in top2_e]\n",
    "\n",
    "\n",
    "caracteres_a_eliminar = '\\n'\n",
    "\n",
    "tp2 = [elemento.replace(caracteres_a_eliminar, '') for elemento in tp1] \n",
    "print(tp2)"
   ]
  },
  {
   "cell_type": "code",
   "execution_count": 7,
   "id": "7ff5431d",
   "metadata": {},
   "outputs": [],
   "source": [
    "# Encontrar los elementos que contienen los precios de los productos\n",
    "bi2_p = soup.find_all('td', class_='Table-cell Table-cell--statBar u-prm u-showForMedium')\n"
   ]
  },
  {
   "cell_type": "code",
   "execution_count": 8,
   "id": "56af1360",
   "metadata": {},
   "outputs": [
    {
     "name": "stdout",
     "output_type": "stream",
     "text": [
      "['10421', '3378', '2690', '673', '3849', '315', '79917', '254', '3380', '2762', '1482', '3376', '1551', '726', '2075', '224', '132', '277', '825', '65', '350', '229', '438', '73', '14938', '166', '416', '67', '141', '2073', '2826', '162', '278', '1864', '490', '394', '105', '261', '225', '696', '2257', '139', '273', '42', '534', '359', '95', '242', '8', '174', '197', '206', '406', '559', '119', '201', '120', '8', '37', '202', '280', '10', '28', '69', '188', '30', '83', '171', '75', '23', '247', '99', '101', '64', '58', '19', '66', '33', '76', '73', '272', '41', '953', '85', '8', '24', '38', '394', '34', '39', '26', '20', '66', '210', '1', '6', '26', '54', '6', '20', '21', '103', '11', '30', '71', '344', '8', '53', '46', '30', '12', '8', '97', '36', '29', '3', '12', '26', '5', '65', '4', '8', '15', '19', '6', '2', '4', '5', '37', '14', '1', '29', '16', '7', '4', '47', '4', '67', '15', '51', '31', '18', '1', '5', '30', '5', '27', '3', '27', '36', '4', '49', '2', '11', '4', '20', '3', '7', '7', '5', '0', '1', '3', '1', '5', '22', '1', '1', '1', '1', '1', '2', '5', '5', '4', '1', '3', '3', '1', '2', '0', '1', '1', '1', '3', '1', '2', '0', '2', '1', '1', '1', '2', '2', '1', '1', '0', '1', '0', '0', '0', '0', '0', '0', '0', '0', '0', '0', '0', '0', '0', '0', '0', '0', '0', '0', '0', '0', '0', '0', '0', '0', '0', '0', '0', '0', '0', '0', '0', '0', '0', '0', '0', '0', '0', '0', '0', '0', '1', '0', '0', '0', '0', '0', '0', '0', '0', '0', '0', '0', '0', '0', '0']\n"
     ]
    }
   ],
   "source": [
    "top2_p=list()\n",
    "for i in bi2_p:\n",
    "    top2_p.append(i.text)\n",
    "#limpiamos los textos incluidos\n",
    "top2_p\n",
    "caracteres_a_eliminar = '\\t'\n",
    "\n",
    "tp1p = [elemento.replace(caracteres_a_eliminar, '') for elemento in top2_p]\n",
    "\n",
    "caracteres_a_eliminar = '\\n'\n",
    "\n",
    "tpp = [elemento.replace(caracteres_a_eliminar, '') for elemento in tp1p] \n",
    "\n",
    "caracteres_a_eliminar = ','\n",
    "\n",
    "\n",
    "tp2p = [elemento.replace(caracteres_a_eliminar, '') for elemento in tpp] \n",
    "print(tp2p)"
   ]
  },
  {
   "cell_type": "code",
   "execution_count": 9,
   "id": "a08a9135",
   "metadata": {},
   "outputs": [],
   "source": [
    "import pandas as pd\n",
    "data = {\n",
    "    'Paises': top2,\n",
    "    'Especies': tp2,\n",
    "    'Listas': tp2p\n",
    "}\n",
    "\n",
    "df = pd.DataFrame(data)\n"
   ]
  },
  {
   "cell_type": "code",
   "execution_count": 10,
   "id": "f05a7b1b",
   "metadata": {},
   "outputs": [
    {
     "name": "stdout",
     "output_type": "stream",
     "text": [
      "<class 'pandas.core.frame.DataFrame'>\n",
      "RangeIndex: 253 entries, 0 to 252\n",
      "Data columns (total 3 columns):\n",
      " #   Column    Non-Null Count  Dtype \n",
      "---  ------    --------------  ----- \n",
      " 0   Paises    253 non-null    object\n",
      " 1   Especies  253 non-null    object\n",
      " 2   Listas    253 non-null    object\n",
      "dtypes: object(3)\n",
      "memory usage: 6.1+ KB\n"
     ]
    }
   ],
   "source": [
    "df.info()"
   ]
  },
  {
   "cell_type": "code",
   "execution_count": 11,
   "id": "538d7c70",
   "metadata": {},
   "outputs": [
    {
     "data": {
      "text/html": [
       "<div>\n",
       "<style scoped>\n",
       "    .dataframe tbody tr th:only-of-type {\n",
       "        vertical-align: middle;\n",
       "    }\n",
       "\n",
       "    .dataframe tbody tr th {\n",
       "        vertical-align: top;\n",
       "    }\n",
       "\n",
       "    .dataframe thead th {\n",
       "        text-align: right;\n",
       "    }\n",
       "</style>\n",
       "<table border=\"1\" class=\"dataframe\">\n",
       "  <thead>\n",
       "    <tr style=\"text-align: right;\">\n",
       "      <th></th>\n",
       "      <th>Paises</th>\n",
       "      <th>Especies</th>\n",
       "      <th>Listas</th>\n",
       "    </tr>\n",
       "  </thead>\n",
       "  <tbody>\n",
       "    <tr>\n",
       "      <th>0</th>\n",
       "      <td>Colombia</td>\n",
       "      <td>1534</td>\n",
       "      <td>10421</td>\n",
       "    </tr>\n",
       "    <tr>\n",
       "      <th>1</th>\n",
       "      <td>Peru</td>\n",
       "      <td>1450</td>\n",
       "      <td>3378</td>\n",
       "    </tr>\n",
       "    <tr>\n",
       "      <th>2</th>\n",
       "      <td>Brazil</td>\n",
       "      <td>1214</td>\n",
       "      <td>2690</td>\n",
       "    </tr>\n",
       "    <tr>\n",
       "      <th>3</th>\n",
       "      <td>Ecuador</td>\n",
       "      <td>1093</td>\n",
       "      <td>673</td>\n",
       "    </tr>\n",
       "    <tr>\n",
       "      <th>4</th>\n",
       "      <td>India</td>\n",
       "      <td>846</td>\n",
       "      <td>3849</td>\n",
       "    </tr>\n",
       "    <tr>\n",
       "      <th>...</th>\n",
       "      <td>...</td>\n",
       "      <td>...</td>\n",
       "      <td>...</td>\n",
       "    </tr>\n",
       "    <tr>\n",
       "      <th>248</th>\n",
       "      <td>Turkmenistan</td>\n",
       "      <td>0</td>\n",
       "      <td>0</td>\n",
       "    </tr>\n",
       "    <tr>\n",
       "      <th>249</th>\n",
       "      <td>Tuvalu</td>\n",
       "      <td>0</td>\n",
       "      <td>0</td>\n",
       "    </tr>\n",
       "    <tr>\n",
       "      <th>250</th>\n",
       "      <td>Virgin Islands (British)</td>\n",
       "      <td>0</td>\n",
       "      <td>0</td>\n",
       "    </tr>\n",
       "    <tr>\n",
       "      <th>251</th>\n",
       "      <td>Western Sahara</td>\n",
       "      <td>0</td>\n",
       "      <td>0</td>\n",
       "    </tr>\n",
       "    <tr>\n",
       "      <th>252</th>\n",
       "      <td>Yemen</td>\n",
       "      <td>0</td>\n",
       "      <td>0</td>\n",
       "    </tr>\n",
       "  </tbody>\n",
       "</table>\n",
       "<p>253 rows × 3 columns</p>\n",
       "</div>"
      ],
      "text/plain": [
       "                       Paises Especies Listas\n",
       "0                    Colombia     1534  10421\n",
       "1                        Peru     1450   3378\n",
       "2                      Brazil     1214   2690\n",
       "3                     Ecuador     1093    673\n",
       "4                       India      846   3849\n",
       "..                        ...      ...    ...\n",
       "248              Turkmenistan        0      0\n",
       "249                    Tuvalu        0      0\n",
       "250  Virgin Islands (British)        0      0\n",
       "251            Western Sahara        0      0\n",
       "252                     Yemen        0      0\n",
       "\n",
       "[253 rows x 3 columns]"
      ]
     },
     "execution_count": 11,
     "metadata": {},
     "output_type": "execute_result"
    }
   ],
   "source": [
    "df"
   ]
  },
  {
   "cell_type": "code",
   "execution_count": 12,
   "id": "d61da6c9",
   "metadata": {},
   "outputs": [],
   "source": [
    "# importar las librerias\n",
    "import pandas as pd\n",
    "import matplotlib.pyplot as plt\n",
    "import seaborn as sns\n",
    "sns.set()"
   ]
  },
  {
   "cell_type": "code",
   "execution_count": 13,
   "id": "fdf35e60",
   "metadata": {},
   "outputs": [
    {
     "data": {
      "application/vnd.jupyter.widget-view+json": {
       "model_id": "908acd410ba0464285a82746c1bf2306",
       "version_major": 2,
       "version_minor": 0
      },
      "text/plain": [
       "QgridWidget(grid_options={'fullWidthRows': True, 'syncColumnCellResize': True, 'forceFitColumns': True, 'defau…"
      ]
     },
     "metadata": {},
     "output_type": "display_data"
    }
   ],
   "source": [
    "# visión cualitativa de los datos\n",
    "from qgrid import show_grid\n",
    "show_grid(df)"
   ]
  },
  {
   "cell_type": "code",
   "execution_count": 14,
   "id": "df995e39",
   "metadata": {},
   "outputs": [
    {
     "data": {
      "text/html": [
       "<div>\n",
       "<style scoped>\n",
       "    .dataframe tbody tr th:only-of-type {\n",
       "        vertical-align: middle;\n",
       "    }\n",
       "\n",
       "    .dataframe tbody tr th {\n",
       "        vertical-align: top;\n",
       "    }\n",
       "\n",
       "    .dataframe thead th {\n",
       "        text-align: right;\n",
       "    }\n",
       "</style>\n",
       "<table border=\"1\" class=\"dataframe\">\n",
       "  <thead>\n",
       "    <tr style=\"text-align: right;\">\n",
       "      <th></th>\n",
       "      <th>variable</th>\n",
       "      <th>q_nan</th>\n",
       "      <th>p_nan</th>\n",
       "      <th>q_zeros</th>\n",
       "      <th>p_zeros</th>\n",
       "      <th>unique</th>\n",
       "      <th>type</th>\n",
       "    </tr>\n",
       "  </thead>\n",
       "  <tbody>\n",
       "    <tr>\n",
       "      <th>0</th>\n",
       "      <td>Paises</td>\n",
       "      <td>0</td>\n",
       "      <td>0.0</td>\n",
       "      <td>0</td>\n",
       "      <td>0.0</td>\n",
       "      <td>253</td>\n",
       "      <td>object</td>\n",
       "    </tr>\n",
       "    <tr>\n",
       "      <th>1</th>\n",
       "      <td>Especies</td>\n",
       "      <td>0</td>\n",
       "      <td>0.0</td>\n",
       "      <td>0</td>\n",
       "      <td>0.0</td>\n",
       "      <td>151</td>\n",
       "      <td>object</td>\n",
       "    </tr>\n",
       "    <tr>\n",
       "      <th>2</th>\n",
       "      <td>Listas</td>\n",
       "      <td>0</td>\n",
       "      <td>0.0</td>\n",
       "      <td>0</td>\n",
       "      <td>0.0</td>\n",
       "      <td>119</td>\n",
       "      <td>object</td>\n",
       "    </tr>\n",
       "  </tbody>\n",
       "</table>\n",
       "</div>"
      ],
      "text/plain": [
       "   variable  q_nan  p_nan  q_zeros  p_zeros  unique    type\n",
       "0    Paises      0    0.0        0      0.0     253  object\n",
       "1  Especies      0    0.0        0      0.0     151  object\n",
       "2    Listas      0    0.0        0      0.0     119  object"
      ]
     },
     "execution_count": 14,
     "metadata": {},
     "output_type": "execute_result"
    }
   ],
   "source": [
    "from funpymodeling.exploratory import status\n",
    "\n",
    "status(df)"
   ]
  },
  {
   "cell_type": "code",
   "execution_count": 15,
   "id": "a4c2832e",
   "metadata": {},
   "outputs": [],
   "source": [
    "df_original=df.copy()"
   ]
  },
  {
   "cell_type": "code",
   "execution_count": 16,
   "id": "5a61cfce",
   "metadata": {},
   "outputs": [],
   "source": [
    "#convertimos\n",
    "df['Especies']=df['Especies'].astype(float)\n",
    "df['Listas']=df['Listas'].astype(float)\n",
    "\n"
   ]
  },
  {
   "cell_type": "code",
   "execution_count": 17,
   "id": "a6000144",
   "metadata": {},
   "outputs": [
    {
     "data": {
      "text/html": [
       "<div>\n",
       "<style scoped>\n",
       "    .dataframe tbody tr th:only-of-type {\n",
       "        vertical-align: middle;\n",
       "    }\n",
       "\n",
       "    .dataframe tbody tr th {\n",
       "        vertical-align: top;\n",
       "    }\n",
       "\n",
       "    .dataframe thead th {\n",
       "        text-align: right;\n",
       "    }\n",
       "</style>\n",
       "<table border=\"1\" class=\"dataframe\">\n",
       "  <thead>\n",
       "    <tr style=\"text-align: right;\">\n",
       "      <th></th>\n",
       "      <th>variable</th>\n",
       "      <th>q_nan</th>\n",
       "      <th>p_nan</th>\n",
       "      <th>q_zeros</th>\n",
       "      <th>p_zeros</th>\n",
       "      <th>unique</th>\n",
       "      <th>type</th>\n",
       "    </tr>\n",
       "  </thead>\n",
       "  <tbody>\n",
       "    <tr>\n",
       "      <th>0</th>\n",
       "      <td>Paises</td>\n",
       "      <td>0</td>\n",
       "      <td>0.0</td>\n",
       "      <td>0</td>\n",
       "      <td>0.000000</td>\n",
       "      <td>253</td>\n",
       "      <td>object</td>\n",
       "    </tr>\n",
       "    <tr>\n",
       "      <th>1</th>\n",
       "      <td>Especies</td>\n",
       "      <td>0</td>\n",
       "      <td>0.0</td>\n",
       "      <td>55</td>\n",
       "      <td>0.217391</td>\n",
       "      <td>151</td>\n",
       "      <td>float64</td>\n",
       "    </tr>\n",
       "    <tr>\n",
       "      <th>2</th>\n",
       "      <td>Listas</td>\n",
       "      <td>0</td>\n",
       "      <td>0.0</td>\n",
       "      <td>58</td>\n",
       "      <td>0.229249</td>\n",
       "      <td>119</td>\n",
       "      <td>float64</td>\n",
       "    </tr>\n",
       "  </tbody>\n",
       "</table>\n",
       "</div>"
      ],
      "text/plain": [
       "   variable  q_nan  p_nan  q_zeros   p_zeros  unique     type\n",
       "0    Paises      0    0.0        0  0.000000     253   object\n",
       "1  Especies      0    0.0       55  0.217391     151  float64\n",
       "2    Listas      0    0.0       58  0.229249     119  float64"
      ]
     },
     "execution_count": 17,
     "metadata": {},
     "output_type": "execute_result"
    }
   ],
   "source": [
    "status(df)"
   ]
  },
  {
   "cell_type": "markdown",
   "id": "d69a7e98",
   "metadata": {},
   "source": [
    "# Migracion de excel(csv) a python"
   ]
  },
  {
   "cell_type": "code",
   "execution_count": 18,
   "id": "69d12916",
   "metadata": {},
   "outputs": [],
   "source": [
    "#Creacion de un archivo csv\n",
    "df.to_csv('Paises_bgd.csv', index=False)"
   ]
  },
  {
   "cell_type": "code",
   "execution_count": 19,
   "id": "1099a27b",
   "metadata": {},
   "outputs": [],
   "source": [
    "df_1=pd.read_csv('Paises_bgd.csv')"
   ]
  },
  {
   "cell_type": "code",
   "execution_count": 20,
   "id": "941659cd",
   "metadata": {},
   "outputs": [
    {
     "data": {
      "text/html": [
       "<div>\n",
       "<style scoped>\n",
       "    .dataframe tbody tr th:only-of-type {\n",
       "        vertical-align: middle;\n",
       "    }\n",
       "\n",
       "    .dataframe tbody tr th {\n",
       "        vertical-align: top;\n",
       "    }\n",
       "\n",
       "    .dataframe thead th {\n",
       "        text-align: right;\n",
       "    }\n",
       "</style>\n",
       "<table border=\"1\" class=\"dataframe\">\n",
       "  <thead>\n",
       "    <tr style=\"text-align: right;\">\n",
       "      <th></th>\n",
       "      <th>Paises</th>\n",
       "      <th>Especies</th>\n",
       "      <th>Listas</th>\n",
       "    </tr>\n",
       "  </thead>\n",
       "  <tbody>\n",
       "    <tr>\n",
       "      <th>0</th>\n",
       "      <td>Colombia</td>\n",
       "      <td>1534.0</td>\n",
       "      <td>10421.0</td>\n",
       "    </tr>\n",
       "    <tr>\n",
       "      <th>1</th>\n",
       "      <td>Peru</td>\n",
       "      <td>1450.0</td>\n",
       "      <td>3378.0</td>\n",
       "    </tr>\n",
       "    <tr>\n",
       "      <th>2</th>\n",
       "      <td>Brazil</td>\n",
       "      <td>1214.0</td>\n",
       "      <td>2690.0</td>\n",
       "    </tr>\n",
       "    <tr>\n",
       "      <th>3</th>\n",
       "      <td>Ecuador</td>\n",
       "      <td>1093.0</td>\n",
       "      <td>673.0</td>\n",
       "    </tr>\n",
       "    <tr>\n",
       "      <th>4</th>\n",
       "      <td>India</td>\n",
       "      <td>846.0</td>\n",
       "      <td>3849.0</td>\n",
       "    </tr>\n",
       "    <tr>\n",
       "      <th>...</th>\n",
       "      <td>...</td>\n",
       "      <td>...</td>\n",
       "      <td>...</td>\n",
       "    </tr>\n",
       "    <tr>\n",
       "      <th>248</th>\n",
       "      <td>Turkmenistan</td>\n",
       "      <td>0.0</td>\n",
       "      <td>0.0</td>\n",
       "    </tr>\n",
       "    <tr>\n",
       "      <th>249</th>\n",
       "      <td>Tuvalu</td>\n",
       "      <td>0.0</td>\n",
       "      <td>0.0</td>\n",
       "    </tr>\n",
       "    <tr>\n",
       "      <th>250</th>\n",
       "      <td>Virgin Islands (British)</td>\n",
       "      <td>0.0</td>\n",
       "      <td>0.0</td>\n",
       "    </tr>\n",
       "    <tr>\n",
       "      <th>251</th>\n",
       "      <td>Western Sahara</td>\n",
       "      <td>0.0</td>\n",
       "      <td>0.0</td>\n",
       "    </tr>\n",
       "    <tr>\n",
       "      <th>252</th>\n",
       "      <td>Yemen</td>\n",
       "      <td>0.0</td>\n",
       "      <td>0.0</td>\n",
       "    </tr>\n",
       "  </tbody>\n",
       "</table>\n",
       "<p>253 rows × 3 columns</p>\n",
       "</div>"
      ],
      "text/plain": [
       "                       Paises  Especies   Listas\n",
       "0                    Colombia    1534.0  10421.0\n",
       "1                        Peru    1450.0   3378.0\n",
       "2                      Brazil    1214.0   2690.0\n",
       "3                     Ecuador    1093.0    673.0\n",
       "4                       India     846.0   3849.0\n",
       "..                        ...       ...      ...\n",
       "248              Turkmenistan       0.0      0.0\n",
       "249                    Tuvalu       0.0      0.0\n",
       "250  Virgin Islands (British)       0.0      0.0\n",
       "251            Western Sahara       0.0      0.0\n",
       "252                     Yemen       0.0      0.0\n",
       "\n",
       "[253 rows x 3 columns]"
      ]
     },
     "execution_count": 20,
     "metadata": {},
     "output_type": "execute_result"
    }
   ],
   "source": [
    "df_1"
   ]
  },
  {
   "cell_type": "code",
   "execution_count": 21,
   "id": "e32b310b",
   "metadata": {},
   "outputs": [
    {
     "name": "stdout",
     "output_type": "stream",
     "text": [
      "<class 'pandas.core.frame.DataFrame'>\n",
      "RangeIndex: 253 entries, 0 to 252\n",
      "Data columns (total 3 columns):\n",
      " #   Column    Non-Null Count  Dtype  \n",
      "---  ------    --------------  -----  \n",
      " 0   Paises    253 non-null    object \n",
      " 1   Especies  253 non-null    float64\n",
      " 2   Listas    253 non-null    float64\n",
      "dtypes: float64(2), object(1)\n",
      "memory usage: 6.1+ KB\n"
     ]
    }
   ],
   "source": [
    "df_1.info()"
   ]
  },
  {
   "cell_type": "markdown",
   "id": "1685dce2",
   "metadata": {},
   "source": [
    "## app"
   ]
  },
  {
   "cell_type": "code",
   "execution_count": 22,
   "id": "7dc02da1",
   "metadata": {},
   "outputs": [
    {
     "name": "stdout",
     "output_type": "stream",
     "text": [
      "Dash is running on http://127.0.0.1:8050/\n",
      "\n",
      " * Serving Flask app '__main__'\n",
      " * Debug mode: on\n"
     ]
    },
    {
     "name": "stderr",
     "output_type": "stream",
     "text": [
      "Traceback (most recent call last):\n",
      "  File \"/home/jose/anaconda3/envs/compu2/lib/python3.8/site-packages/ipykernel_launcher.py\", line 15, in <module>\n",
      "    from ipykernel import kernelapp as app\n",
      "  File \"/home/jose/anaconda3/envs/compu2/lib/python3.8/site-packages/ipykernel/kernelapp.py\", line 18, in <module>\n",
      "    from IPython.core.application import (\n",
      "  File \"/home/jose/anaconda3/envs/compu2/lib/python3.8/site-packages/IPython/__init__.py\", line 53, in <module>\n",
      "    from .terminal.embed import embed\n",
      "  File \"/home/jose/anaconda3/envs/compu2/lib/python3.8/site-packages/IPython/terminal/embed.py\", line 16, in <module>\n",
      "    from IPython.terminal.interactiveshell import TerminalInteractiveShell\n",
      "  File \"/home/jose/anaconda3/envs/compu2/lib/python3.8/site-packages/IPython/terminal/interactiveshell.py\", line 47, in <module>\n",
      "    from .debugger import TerminalPdb, Pdb\n",
      "  File \"/home/jose/anaconda3/envs/compu2/lib/python3.8/site-packages/IPython/terminal/debugger.py\", line 6, in <module>\n",
      "    from IPython.core.completer import IPCompleter\n",
      "  File \"/home/jose/anaconda3/envs/compu2/lib/python3.8/site-packages/IPython/core/completer.py\", line 250, in <module>\n",
      "    import jedi\n",
      "  File \"/home/jose/anaconda3/envs/compu2/lib/python3.8/site-packages/jedi/__init__.py\", line 32, in <module>\n",
      "    from jedi.api import Script, Interpreter, set_debug_function, preload_module\n",
      "  File \"/home/jose/anaconda3/envs/compu2/lib/python3.8/site-packages/jedi/api/__init__.py\", line 13, in <module>\n",
      "    import parso\n",
      "  File \"/home/jose/anaconda3/envs/compu2/lib/python3.8/site-packages/parso/__init__.py\", line 42, in <module>\n",
      "    from parso.grammar import Grammar, load_grammar\n",
      "  File \"/home/jose/anaconda3/envs/compu2/lib/python3.8/site-packages/parso/grammar.py\", line 13, in <module>\n",
      "    from parso.cache import parser_cache, load_module, try_to_save_module\n",
      "  File \"/home/jose/anaconda3/envs/compu2/lib/python3.8/site-packages/parso/cache.py\", line 76, in <module>\n",
      "    _default_cache_path = _get_default_cache_path()\n",
      "  File \"/home/jose/anaconda3/envs/compu2/lib/python3.8/site-packages/parso/cache.py\", line 73, in _get_default_cache_path\n",
      "    return dir_.expanduser()\n",
      "AttributeError: 'PosixPath' object has no attribute 'expanduser'\n"
     ]
    },
    {
     "ename": "SystemExit",
     "evalue": "1",
     "output_type": "error",
     "traceback": [
      "An exception has occurred, use %tb to see the full traceback.\n",
      "\u001b[0;31mSystemExit\u001b[0m\u001b[0;31m:\u001b[0m 1\n"
     ]
    },
    {
     "name": "stderr",
     "output_type": "stream",
     "text": [
      "/home/jose/anaconda3/envs/compu2/lib/python3.8/site-packages/IPython/core/interactiveshell.py:3468: UserWarning:\n",
      "\n",
      "To exit: use 'exit', 'quit', or Ctrl-D.\n",
      "\n"
     ]
    }
   ],
   "source": [
    "#ERROR de prueba es posible no funcionar\n",
    "\n",
    "import dash\n",
    "from dash import dcc as dcc\n",
    "from dash import html as html\n",
    "import plotly.express as px\n",
    "import pandas as pd\n",
    "import plotly.express as px\n",
    "\n",
    "# Leer el archivo CSV y crear el DataFrame\n",
    "df_1= pd.read_csv('Paises_bgd.csv')\n",
    "\n",
    "# Crear la aplicación Dash\n",
    "app = dash.Dash(__name__)\n",
    "\n",
    "# Definir el layout del dashboard\n",
    "app.layout = html.Div([\n",
    "    html.H1('Dashboard de Datos'),\n",
    "    dcc.Graph(\n",
    "        id='grafico-1',\n",
    "        figure=px.bar(df_1, x='Paises', y='Especies', title='Gráfico 1')\n",
    "    ),\n",
    "    dcc.Graph(\n",
    "        id='grafico-2',\n",
    "        figure=px.bar(df_1, x='Paises', y='Listas', title='Gráfico 2')\n",
    "    ),\n",
    "    # Agrega más gráficos según tus necesidades\n",
    "])\n",
    "\n",
    "# Iniciar el servidor de Dash\n",
    "if __name__ == '__main__':\n",
    "    app.run_server(debug=True)\n"
   ]
  },
  {
   "cell_type": "code",
   "execution_count": null,
   "id": "a4d09c6c",
   "metadata": {},
   "outputs": [],
   "source": []
  },
  {
   "cell_type": "markdown",
   "id": "07f80948",
   "metadata": {},
   "source": [
    "# Graficos juntos"
   ]
  },
  {
   "cell_type": "code",
   "execution_count": 23,
   "id": "01ef3a6b",
   "metadata": {},
   "outputs": [],
   "source": [
    "import pandas as pd\n",
    "import plotly.graph_objects as go\n",
    "import plotly.io as pio\n",
    "\n",
    "# Crear un DataFrame de ejemplo\n",
    "data = {\n",
    "    'Paises': top2,\n",
    "    'Especies': tp2,\n",
    "    'Listas': tp2p\n",
    "}\n",
    "df = pd.DataFrame(data)\n",
    "\n",
    "# Crear visualizaciones interactivas utilizando Plotly\n",
    "fig = go.Figure()\n",
    "fig.add_trace(go.Bar(name='Población', x=df['Paises'], y=df['Especies']))\n",
    "fig.add_trace(go.Bar(name='listas', x=df['Paises'], y=df['Listas']))\n",
    "\n",
    "fig.update_layout(\n",
    "    title='Datos de la Big Global day',\n",
    "    xaxis_title='Paises',\n",
    "    yaxis_title='Valor',\n",
    "    barmode='stack'\n",
    ")\n",
    "\n",
    "# Guardar el dashboard en un archivo HTML\n",
    "pio.write_html(fig, file='dashboard.html', auto_open=True)\n"
   ]
  },
  {
   "cell_type": "markdown",
   "id": "cebe1cd3",
   "metadata": {},
   "source": [
    "# Graficos separados"
   ]
  },
  {
   "cell_type": "code",
   "execution_count": 24,
   "id": "1c4167b4",
   "metadata": {},
   "outputs": [],
   "source": [
    "import pandas as pd\n",
    "import plotly.graph_objects as go\n",
    "from plotly.subplots import make_subplots\n",
    "from plotly.io import write_html\n",
    "from sklearn.preprocessing import MinMaxScaler\n",
    "\n",
    "# Crear un DataFrame de ejemplo\n",
    "data = {\n",
    "    'Paises': top2,\n",
    "    'Especies': tp2,\n",
    "    'Listas': tp2p\n",
    "}\n",
    "df = pd.DataFrame(data)\n",
    "\n",
    "# Normalizar los valores en la columna 'Especies'\n",
    "scaler = MinMaxScaler()\n",
    "df['Especies'] = scaler.fit_transform(df['Especies'].values.reshape(-1, 1))\n",
    "\n",
    "# Crear subplots en una sola figura\n",
    "fig = make_subplots(rows=1, cols=len(df.columns)-1, subplot_titles=df.columns[1:])\n",
    "\n",
    "# Agregar las gráficas a los subplots\n",
    "for i, column in enumerate(df.columns[1:], start=1):\n",
    "    fig.add_trace(go.Bar(x=df['Paises'], y=df[column]), row=1, col=i)\n",
    "\n",
    "    # Configurar título y etiquetas de los ejes\n",
    "    fig.update_xaxes(title_text='Paises', row=1, col=i)\n",
    "    fig.update_yaxes(title_text='Valor', row=1, col=i)\n",
    "\n",
    "    # Ajustar el rango del eje y\n",
    "    max_value = float(df[column].max())\n",
    "    fig.update_yaxes(range=[0, max_value * 1.1], row=1, col=i)\n",
    "\n",
    "# Configurar el título del dashboard\n",
    "fig.update_layout(title='Datos de la Big Global day - Dashboard')\n",
    "\n",
    "# Guardar el dashboard en un archivo HTML\n",
    "write_html(fig, file='dashboard.html', auto_open=True)\n"
   ]
  },
  {
   "cell_type": "code",
   "execution_count": null,
   "id": "4966a717",
   "metadata": {},
   "outputs": [],
   "source": []
  }
 ],
 "metadata": {
  "kernelspec": {
   "display_name": "Python 3 (ipykernel)",
   "language": "python",
   "name": "python3"
  },
  "language_info": {
   "codemirror_mode": {
    "name": "ipython",
    "version": 3
   },
   "file_extension": ".py",
   "mimetype": "text/x-python",
   "name": "python",
   "nbconvert_exporter": "python",
   "pygments_lexer": "ipython3",
   "version": "3.8.16"
  }
 },
 "nbformat": 4,
 "nbformat_minor": 5
}
